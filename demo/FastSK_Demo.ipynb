{
  "nbformat": 4,
  "nbformat_minor": 0,
  "metadata": {
    "kernelspec": {
      "display_name": "Python 3",
      "language": "python",
      "name": "python3"
    },
    "language_info": {
      "codemirror_mode": {
        "name": "ipython",
        "version": 3
      },
      "file_extension": ".py",
      "mimetype": "text/x-python",
      "name": "python",
      "nbconvert_exporter": "python",
      "pygments_lexer": "ipython3",
      "version": "3.7.4"
    },
    "colab": {
      "name": "FastSK_Demo.ipynb",
      "provenance": [],
      "collapsed_sections": []
    }
  },
  "cells": [
    {
      "cell_type": "markdown",
      "metadata": {
        "id": "i0O9lBP72pSk",
        "colab_type": "text"
      },
      "source": [
        "## **FastSK Demo**\n",
        "Here is a quick tutorial on how to use the methods in FastSK package."
      ]
    },
    {
      "cell_type": "markdown",
      "metadata": {
        "id": "-8CwHDlTQS2W",
        "colab_type": "text"
      },
      "source": [
        "### **SVM Class**\n"
      ]
    },
    {
      "cell_type": "markdown",
      "metadata": {
        "id": "e7eiSXBU2kld",
        "colab_type": "text"
      },
      "source": [
        "#### **fastsk.SVM( *int* g, *int* m, *double* C=1.0, *double* *nu*=0.5, *double* *eps*=0.001, *string* kernel='linear')**\n",
        "\n",
        "\n",
        "Constructor of SVM class. This creates a SVM object with the specified parameters. <br>\n",
        "\n",
        "*g*: Required. Set gamma parameter in the kernel function<br>\n",
        "*m*: Required. The number of mismatched positions.<br>\n",
        "*C*: Optional. Optimization parameter. *Default: 1.0*<br>\n",
        "*nu*: Optional. The parameter nu of nu-SVC, one-class SVM, and nu-SVR (*from LIBSVM*). *Default: 0.5*<br>\n",
        "*eps*: Optional.  LIBSVM epsilon parameter. The tolerance of terminating criterion. *Default: 0.001*<br>\n",
        "*kernel*: Optional. The kernel to use for SVM. *Default: 'linear'*<br>"
      ]
    },
    {
      "cell_type": "markdown",
      "metadata": {
        "id": "VibnZlOu2klr",
        "colab_type": "text"
      },
      "source": [
        "#### **SVM.fit(*string* train_file, *string* test_file, *dict* dict=\"\", *boolean* quite=False, *string* kernel_file=\"\")**\n",
        "\n",
        "*train_file*, *test_file*: Required. The file that contains the sequence strings for training and testing respectively, separated by \">\"+*label_int*<br>\n",
        "*dict*: Optional. *Default: empty string.*<br>\n",
        "*quiet*: Optional. Setting to True would disable all the intermediate output during training. *Default: False.*<br>\n",
        "*kernel_file*: Optional. The filename to write the kernel in. *Default: empty string.*"
      ]
    },
    {
      "cell_type": "code",
      "metadata": {
        "id": "u_74x_RLBDXK",
        "colab_type": "code",
        "colab": {}
      },
      "source": [
        "from fastsk import SVM\n",
        "svm = SVM(g=3, m=2, C=0.7)\n",
        "\n",
        "svm.fit(train_file=\"1.1.train.fasta\", test_file=\"1.1.test.fasta\", quiet=False, kernel_file=\"output.txt\")\n",
        "svm.predict('predictions.txt')"
      ],
      "execution_count": 0,
      "outputs": []
    },
    {
      "cell_type": "markdown",
      "metadata": {
        "id": "HLCLf8EU2kls",
        "colab_type": "text"
      },
      "source": [
        "#### **SVM.fit_from_array([*string*] Xtrain, [*int*] Ytrain, [*string*] Xtest, [*int*] Ytrain, *string* kernel_file)**\n",
        "\n",
        "*Xtrain*, *Xtest*: Required. List of string sequences for training and testing.<br>\n",
        "*Ytrain*, *Ytest*: Required. List of corresponding labels for training and testing.<br>\n",
        "*kernel_file*: Optional. File destination to write the kernel to."
      ]
    },
    {
      "cell_type": "code",
      "metadata": {
        "id": "A64Cu_bH2klu",
        "colab_type": "code",
        "colab": {}
      },
      "source": [
        "xtrain = [\"ACACA\", \"AAACA\"]\n",
        "ytrain = [1, 0]\n",
        "xtest = [\"AAAAA\", \"ACACA\"]\n",
        "ytest = [1, 0]\n",
        "\n",
        "svm.fit_from_arrays(xtrain, ytrain, xtest, ytest, \"kernel.txt\")"
      ],
      "execution_count": 0,
      "outputs": []
    },
    {
      "cell_type": "markdown",
      "metadata": {
        "id": "dpDEwtlLVz47",
        "colab_type": "text"
      },
      "source": [
        "Message in terminal:\n",
        "<pre><code>Dictionary: AC\n",
        "Size: 3 (+1 for unknown character)\n",
        "n_str = 2\n",
        "Dictionary: AC\n",
        "Size: 3 (+1 for unknown character)\n",
        "n_str = 2\n",
        "g = 3, k = 1, 12 features\n",
        "Computing approximate kernel...\n",
        "Computing 3 mismatch profiles using 3 threads...\n",
        "Thread 0 finished in 1 iterations...\n",
        "Thread 2 finished in 1 iterations...\n",
        "Thread 1 finished in 1 iterations...\n",
        "Writing kernel to kernel.txt...\n",
        "*\n",
        "optimization finished, #iter = 1\n",
        "nu = 1.000000\n",
        "obj = -1.393911, rho = 0.000000\n",
        "nSV = 2, nBSV = 2\n",
        "Total nSV = 2\n",
        "*\n",
        "optimization finished, #iter = 1\n",
        "nu = 1.000000\n",
        "obj = -1.393911, rho = 0.000000\n",
        "nSV = 2, nBSV = 2\n",
        "Total nSV = 2\n",
        "*\n",
        "optimization finished, #iter = 1\n",
        "nu = 1.000000\n",
        "obj = -1.393911, rho = 0.000000\n",
        "nSV = 2, nBSV = 2\n",
        "Total nSV = 2\n",
        "*\n",
        "optimization finished, #iter = 1\n",
        "nu = 1.000000\n",
        "obj = -1.393911, rho = 0.000000\n",
        "nSV = 2, nBSV = 2\n",
        "Total nSV = 2\n",
        "</code></pre>\n",
        "\n"
      ]
    },
    {
      "cell_type": "markdown",
      "metadata": {
        "id": "DCmcSgazDcDJ",
        "colab_type": "text"
      },
      "source": [
        "#### **SVM.fit_numerical(Xtrain, Ytrain, Xtest, Ytrain, kernel_file=\"\")**\n",
        "\n",
        "*Xtrain, Ytrain*: Required. List of list of ints.<br>\n",
        "*Xtest, Ytest*: Required. List of corresponding int label to the int sequences in Xtrain, Ytrain.<br>\n",
        "*kernel_file*: The file destination to write kernel matrix to."
      ]
    },
    {
      "cell_type": "code",
      "metadata": {
        "id": "81E8DElE2kl1",
        "colab_type": "code",
        "colab": {}
      },
      "source": [
        "xtrain = [[1,0,1,0,1], [1,1,1,0,1]]\n",
        "ytrain = [1, 0]\n",
        "xtest = [[1,1,1,1,1], [1,0,1,0,1]]\n",
        "ytest = [1, 0]\n",
        "\n",
        "svm.fit_numerical(xtrain, ytrain, xtest, ytest, \"kernel.txt\")\n",
        "svm.predict(\"preds.txt\")"
      ],
      "execution_count": 0,
      "outputs": []
    },
    {
      "cell_type": "markdown",
      "metadata": {
        "id": "_UqF-Cb-XqKX",
        "colab_type": "text"
      },
      "source": [
        "Message in terminal:\n",
        "<pre><code>dictionarySize = 2\n",
        "g = 3, k = 1, 12 features\n",
        "Computing exact kernel...\n",
        "Computing 3 mismatch profiles using 3 threads...\n",
        "Thread 1 finished in 1 iterations...\n",
        "Thread 2 finished in 1 iterations...\n",
        "Thread 0 finished in 1 iterations...\n",
        "Writing kernel to kernel.txt...\n",
        "</code></pre>"
      ]
    },
    {
      "cell_type": "markdown",
      "metadata": {
        "id": "PPYIVh9GEZDx",
        "colab_type": "text"
      },
      "source": [
        "#### **SVM.cv([[*int*]] X, [[*int*]] Y, *int* num_folds=7)**\n",
        "\n",
        "This trains on X,Y with cross validation.\n",
        "\n",
        "*X*: Required. Sequences list.<br>\n",
        "*Y*: Required. Label list.<br>\n",
        "*num_folds*: Optional. Set the number of holds in k-fold cross validation. Default: 7."
      ]
    },
    {
      "cell_type": "code",
      "metadata": {
        "id": "xEkvm0FeFD0w",
        "colab_type": "code",
        "colab": {}
      },
      "source": [
        "from fastsk import SVM\n",
        "\n",
        "svm = SVM(g=3, m=2, C=0.7)\n",
        "xtrain = [[1,0,1,0,1], [1,1,1,0,1], [1,0,1,1,1], [1,0,0,1], [0,0,1,0], [1,1,1,0,1], [1,0,1,1,0], [1,0,1,0,0], [1,0,1]]\n",
        "ytrain = [1, 0, 0, 1, 0, 0, 0, 1] \n",
        "\n",
        "svm.cv(xtrain, ytrain, num_folds=8)"
      ],
      "execution_count": 0,
      "outputs": []
    },
    {
      "cell_type": "markdown",
      "metadata": {
        "id": "RGeMugiuYS4X",
        "colab_type": "text"
      },
      "source": [
        "Output in terminal is as follows.\n",
        "<pre><code>dictionarySize = 2\n",
        "g = 3, k = 1, 23 features\n",
        "Computing exact kernel...\n",
        "Computing 3 mismatch profiles using 3 threads...\n",
        "Thread 1 finished in 1 iterations...\n",
        "Thread 0 finished in 1 iterations...\n",
        "Thread 2 finished in 1 iterations...\n",
        "subprob.l = 8\n",
        "*\n",
        "optimization finished, #iter = 6\n",
        "nu = 0.857143\n",
        "obj = -3.931428, rho = 1.637066\n",
        "nSV = 6, nBSV = 6\n",
        "Total nSV = 6\n",
        "*\n",
        "optimization finished, #iter = 2\n",
        "...\n",
        "</code></pre>"
      ]
    },
    {
      "cell_type": "markdown",
      "metadata": {
        "id": "nWa1flqEF1hD",
        "colab_type": "text"
      },
      "source": [
        "#### **SVM.predict(*string* predictions_file)**\n",
        "\n",
        "*predictions_file*: Required. File destination to write the predicted labels of test_file in.<br>\n",
        "\n",
        "Below is the same example from SVM.fit_numerical()."
      ]
    },
    {
      "cell_type": "code",
      "metadata": {
        "id": "oIAaxEtsF0nN",
        "colab_type": "code",
        "colab": {}
      },
      "source": [
        "from fastsk import SVM\n",
        "\n",
        "xtrain = [\"ACACA\", \"AAACA\"]\n",
        "ytrain = [1, 0]\n",
        "xtest = [\"AAAAA\", \"ACACA\"]\n",
        "ytest = [1, 0]\n",
        "\n",
        "svm = SVM(g=3, m=2, C=0.7)\n",
        "svm.fit_from_arrays(xtrain, ytrain, xtest, ytest, \"kernel.txt\")\n",
        "svm.predict(\"preds.txt\")"
      ],
      "execution_count": 0,
      "outputs": []
    },
    {
      "cell_type": "markdown",
      "metadata": {
        "id": "ot7SiDvfGdMi",
        "colab_type": "text"
      },
      "source": [
        "In *preds.txt*,\n",
        "<pre><code>1\n",
        "0\n",
        "</code></pre>"
      ]
    },
    {
      "cell_type": "markdown",
      "metadata": {
        "id": "3P-zcaYvYuD2",
        "colab_type": "text"
      },
      "source": [
        "Message in terminal:\n",
        "<pre><code>Predicting labels for 2 sequences...\n",
        "Test kernel constructed...\n",
        "num_sv = 2\n",
        "Num sequences: 2\n",
        "Num positive: 1, Num negative: 1\n",
        "TPR: 1.000000\n",
        "TNR: 1.000000\n",
        "FNR: 0.000000\n",
        "FPR: 0.000000\n",
        "\n",
        "Accuracy: 0.500000\n",
        "AUROC: 1.000000\n",
        "</code></pre>"
      ]
    },
    {
      "cell_type": "markdown",
      "metadata": {
        "id": "1QsflZsiFgQJ",
        "colab_type": "text"
      },
      "source": [
        "#### **SVM.score(metrics=\"accuracy\")**\n"
      ]
    },
    {
      "cell_type": "code",
      "metadata": {
        "id": "vFIxaIn2IC9t",
        "colab_type": "code",
        "colab": {}
      },
      "source": [
        "from fastsk import SVM\n",
        "svm = SVM(g=3, m=2, C=0.7)\n",
        "\n",
        "svm.fit(train_file=\"1.1.train.fasta\", test_file=\"1.1.test.fasta\", quiet=True, kernel_file=\"output.txt\")\n",
        "svm.score('accuracy')"
      ],
      "execution_count": 0,
      "outputs": []
    },
    {
      "cell_type": "markdown",
      "metadata": {
        "id": "TPCjOlEtQqtX",
        "colab_type": "text"
      },
      "source": [
        "### **Kernel Class**"
      ]
    },
    {
      "cell_type": "markdown",
      "metadata": {
        "id": "qNaHQrInQwcZ",
        "colab_type": "text"
      },
      "source": [
        "#### **fastsk.Kernel(g, m, t=-1, approx=false, delta=0.025, max_iters, skip_variance=false)**\n",
        "\n",
        "Constructor of the Kernel class. <br>\n",
        "\n",
        "*g*: Required. Set gamma parameter in the kernel function<br>\n",
        "*m*: Required. Number of mismatched positions.<br>\n",
        "*t*: Optional. Tolerance of the stopping criteria. *Default: -1*<br>\n",
        "*approx*: Optional. *Default: False*<br>\n",
        "*max_iters*: Optional. Maximum number of iteration allowed. Set as -1 for no limit. *Default: -1*<br>\n",
        "*skip_variance*: Optional. *Default: false*<br>"
      ]
    },
    {
      "cell_type": "markdown",
      "metadata": {
        "id": "lqkmosAKR_wG",
        "colab_type": "text"
      },
      "source": [
        "#### **Kernel.compute(Xtrian, Xtest)**\n",
        "This computes the kernel matrix based on the given training set *Xtrain* and test set *Xtest*."
      ]
    },
    {
      "cell_type": "code",
      "metadata": {
        "id": "Bn8Yyy6tQu39",
        "colab_type": "code",
        "colab": {}
      },
      "source": [
        "from fastsk import Kernel\n",
        "\n",
        "kernel= Kernel(g=3, m=2)\n",
        "\n",
        "xtrain = [[1,0,1,0,1], [1,1,1,0,1]]\n",
        "xtest = [[1,1,1,1,1], [1,0,1,0,1]]\n",
        "\n",
        "kernel.compute(xtrain, xtest)"
      ],
      "execution_count": 0,
      "outputs": []
    },
    {
      "cell_type": "markdown",
      "metadata": {
        "id": "rgmm2CyPF11j",
        "colab_type": "text"
      },
      "source": [
        "Output in terminal:\n",
        "<pre><code>shortest train sequence: 5, shortest test sequence: 5\n",
        "0,1,\n",
        "dictionarySize = 2\n",
        "g = 3, k = 1, 12 features\n",
        "Computing exact kernel...\n",
        "Computing 3 mismatch profiles using 3 threads...\n",
        "Thread 0 finished in 1 iterations...\n",
        "Thread 2 finished in 1 iterations...\n",
        "Thread 1 finished in 1 iterations...\n",
        "</code></pre>"
      ]
    },
    {
      "cell_type": "markdown",
      "metadata": {
        "id": "fL5CjzD3SWxQ",
        "colab_type": "text"
      },
      "source": [
        "#### **Kernel.compute_train(Xtrian)**\n",
        "This computes the training kernel matrix based on *Xtrain*."
      ]
    },
    {
      "cell_type": "code",
      "metadata": {
        "id": "4YY7qfSJSaLv",
        "colab_type": "code",
        "colab": {}
      },
      "source": [
        "from fastsk import Kernel\n",
        "\n",
        "kernel= Kernel(g=3, m=2)\n",
        "\n",
        "xtrain = [[1,0,1,0,1], [1,1,1,0,1]]\n",
        "xtest = [[1,1,1,1,1], [1,0,1,0,1], [1,0,1,0]]\n",
        "\n",
        "kernel.compute_train(xtrain)"
      ],
      "execution_count": 0,
      "outputs": []
    },
    {
      "cell_type": "markdown",
      "metadata": {
        "id": "Qan5S9pVHPX0",
        "colab_type": "text"
      },
      "source": [
        "Output in terminal:\n",
        "<pre><code>0,1,\n",
        "dictionarySize = 2\n",
        "g = 3, k = 1, 6 features\n",
        "Computing exact kernel...\n",
        "Computing 3 mismatch profiles using 3 threads...\n",
        "Thread 0 finished in 1 iterations...\n",
        "Thread 1 finished in 1 iterations...\n",
        "Thread 2 finished in 1 iterations...</code></pre>"
      ]
    },
    {
      "cell_type": "markdown",
      "metadata": {
        "id": "U6Px-aUsSaoF",
        "colab_type": "text"
      },
      "source": [
        "#### **Kernel.train_kernel()<br>Kernel.test_kernel()<br>**\n",
        "\n",
        "*train_kernel()* returns the training portion of the kernel matrix.<br>\n",
        "*test_kernel()* returns the testing portion of the kernel matrix.<br>\n",
        "\n",
        "For example, given the set up below.."
      ]
    },
    {
      "cell_type": "code",
      "metadata": {
        "id": "e_wu5g_-Sfv6",
        "colab_type": "code",
        "colab": {}
      },
      "source": [
        "from fastsk import Kernel\n",
        "\n",
        "kernel= Kernel(g=3, m=2)\n",
        "\n",
        "Xtrain = [[1,0,1,0,1], [1,1,1,0,1]]\n",
        "Xtest = [[1,1,1,1,1], [1,0,1,0,1]]\n",
        "\n",
        "kernel.compute(Xtrain, Xtest)"
      ],
      "execution_count": 0,
      "outputs": []
    },
    {
      "cell_type": "markdown",
      "metadata": {
        "id": "RmYMikyfPbGg",
        "colab_type": "text"
      },
      "source": [
        "Then we run.."
      ]
    },
    {
      "cell_type": "code",
      "metadata": {
        "id": "DC4NlfdjPcn2",
        "colab_type": "code",
        "colab": {}
      },
      "source": [
        "with open('train_kernel.txt','w')  as f:\n",
        "    f.write(str(kernel.train_kernel()))\n",
        "\n",
        "with open('test_kernel.txt','w')  as f:\n",
        "    f.write(str(kernel.test_kernel()))"
      ],
      "execution_count": 0,
      "outputs": []
    },
    {
      "cell_type": "markdown",
      "metadata": {
        "id": "Na1FYrQPPrPo",
        "colab_type": "text"
      },
      "source": [
        "In *train_kernel.txt*:"
      ]
    },
    {
      "cell_type": "markdown",
      "metadata": {
        "id": "VoJJzROiPf-9",
        "colab_type": "text"
      },
      "source": [
        "<pre><code>[[1.0, 0.8885233166386385], [0.8885233166386385, 1.0]]\n",
        "</code></pre>"
      ]
    },
    {
      "cell_type": "markdown",
      "metadata": {
        "id": "lbcWJaI4P5e1",
        "colab_type": "text"
      },
      "source": [
        "In *test_kernel.txt*:"
      ]
    },
    {
      "cell_type": "markdown",
      "metadata": {
        "id": "1YPqUcH8ODNP",
        "colab_type": "text"
      },
      "source": [
        "<pre><code>[[0.7453559924999299, 0.9271726499455306], [1.0, 0.8885233166386385]]</code></pre>"
      ]
    },
    {
      "cell_type": "markdown",
      "metadata": {
        "id": "hXrGGz4sIta3",
        "colab_type": "text"
      },
      "source": [
        "#### **Kernel.save_kernel(*string* kernel_file)**\n",
        "This method takes a filename string as the destination to write the kernel to.\n"
      ]
    },
    {
      "cell_type": "code",
      "metadata": {
        "id": "WY8Ceb8bJXYk",
        "colab_type": "code",
        "colab": {}
      },
      "source": [
        "from fastsk import Kernel\n",
        "\n",
        "kernel= Kernel(g=3, m=2)\n",
        "\n",
        "xtrain = [[1,0,1,0,1], [1,1,1,0,1]]\n",
        "xtest = [[1,1,1,1,1], [1,0,1,0,1]]\n",
        "\n",
        "kernel.compute(xtrain, xtest)\n",
        "kernel.save_kernel('output.txt')"
      ],
      "execution_count": 0,
      "outputs": []
    },
    {
      "cell_type": "markdown",
      "metadata": {
        "id": "O-2k_bYAJjTp",
        "colab_type": "text"
      },
      "source": [
        "Message in terminal from *save_kernel*():\n",
        "<pre><code>Writing kernel to output.txt...</code></pre>"
      ]
    }
  ]
}